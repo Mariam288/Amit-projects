{
 "cells": [
  {
   "cell_type": "code",
   "execution_count": null,
   "id": "dda07579",
   "metadata": {},
   "outputs": [],
   "source": [
    "MM = float(input(\"MM=\"))\n",
    "ME = float(input(\"ME\"))\n",
    "r = float(input(\"r=\"))\n",
    "G = float(input(\"G=\"))\n",
    "\n",
    "\n",
    "G=G*(10**-11)\n",
    "r=r*(10**8)\n",
    "ME=ME*(10**24)\n",
    "MM=MM*(10**22)\n",
    "\n",
    "FG=(G*ME*MM)/(r**2)\n",
    "\n",
    "print(f\"result= {}\")\n",
    "\n"
   ]
  },
  {
   "cell_type": "code",
   "execution_count": 1,
   "id": "13df6d72",
   "metadata": {},
   "outputs": [
    {
     "ename": "SyntaxError",
     "evalue": "f-string: invalid syntax (2465639877.py, line 5)",
     "output_type": "error",
     "traceback": [
      "\u001b[1;36m  File \u001b[1;32m\"C:\\Users\\M A R I A M\\AppData\\Local\\Temp\\ipykernel_9628\\2465639877.py\"\u001b[1;36m, line \u001b[1;32m5\u001b[0m\n\u001b[1;33m    print (f\"{first number} + {second number}={first_number+second_number}\")\u001b[0m\n\u001b[1;37m       ^\u001b[0m\n\u001b[1;31mSyntaxError\u001b[0m\u001b[1;31m:\u001b[0m f-string: invalid syntax\n"
     ]
    }
   ],
   "source": [
    "first_number=float(input(\" enter your first number \"))\n",
    "second_number=float(input(\" enter your second number \"))\n",
    "operation=input(\"+,-,*,/:\")\n",
    "if operation ==\"+\":\n",
    "    print (f\"{first number} + {second number}={first_number+second_number}\")\n",
    "elif operation ==\"-\":\n",
    "    print (f\"{first number} - {second number}={first_number-second_number}\")\n",
    "elif operation ==\"*\":\n",
    "    print (f\"{first number} * {second number}={first_number*second_number}\")\n",
    "elif operation ==\"/\":\n",
    "    print (f\"{first number} / {second number}={first_number/second_number}\")\n",
    "else \n",
    "   print(\"invalid input\")\n"
   ]
  },
  {
   "cell_type": "code",
   "execution_count": 8,
   "id": "21b43337",
   "metadata": {},
   "outputs": [
    {
     "name": "stdout",
     "output_type": "stream",
     "text": [
      "MM=9\n",
      "ME8\n",
      "r=3\n",
      "G=5\n",
      "result= 3.9999999999999993e+20\n"
     ]
    }
   ],
   "source": [
    "MM = float(input(\"MM=\"))\n",
    "ME = float(input(\"ME\"))\n",
    "r = float(input(\"r=\"))\n",
    "G = float(input(\"G=\"))\n",
    "\n",
    "\n",
    "G=G*(10**-11)\n",
    "r=r*(10**8)\n",
    "ME=ME*(10**24)\n",
    "MM=MM*(10**22)\n",
    "\n",
    "FG=G*ME*MM/(r**2)\n",
    "\n",
    "print(\"result= {}\".format(FG))\n",
    "\n"
   ]
  },
  {
   "cell_type": "code",
   "execution_count": null,
   "id": "c8faa26a",
   "metadata": {},
   "outputs": [],
   "source": []
  }
 ],
 "metadata": {
  "kernelspec": {
   "display_name": "Python 3 (ipykernel)",
   "language": "python",
   "name": "python3"
  },
  "language_info": {
   "codemirror_mode": {
    "name": "ipython",
    "version": 3
   },
   "file_extension": ".py",
   "mimetype": "text/x-python",
   "name": "python",
   "nbconvert_exporter": "python",
   "pygments_lexer": "ipython3",
   "version": "3.9.13"
  }
 },
 "nbformat": 4,
 "nbformat_minor": 5
}
